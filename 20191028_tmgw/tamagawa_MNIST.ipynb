{
 "cells": [
  {
   "cell_type": "markdown",
   "metadata": {},
   "source": [
    "# 深層学習を使って手書き数字を認識する"
   ]
  },
  {
   "cell_type": "markdown",
   "metadata": {},
   "source": [
    "# ライブラリ"
   ]
  },
  {
   "cell_type": "markdown",
   "metadata": {},
   "source": [
    "### 深層学習用のライブラリ  \n",
    "下記は深層学習を使って学習をするために必要なライブラリ。  \n",
    "実際の学習はノートパソコンで行うには計算量が多く時間がかかるため、実行できない形式にしている。  \n",
    "実行してみたい人は、セルのモードを`markdown`から`code`に変更し、　本文の上下についているコードインデント、` ``` `  を取り外せば実行できる。"
   ]
  },
  {
   "cell_type": "markdown",
   "metadata": {
    "colab": {
     "base_uri": "https://localhost:8080/",
     "height": 1071
    },
    "colab_type": "code",
    "id": "AX7kBsNpclCU",
    "outputId": "679b5aff-0ee8-4fbd-d7e6-a8066e6015b9"
   },
   "source": [
    "```python\n",
    "import keras\n",
    "from keras.models import Sequential\n",
    "from keras.layers import Dense, Dropout, Flatten\n",
    "from keras.layers import Conv2D, MaxPooling2D\n",
    "from keras import backend as K\n",
    "```"
   ]
  },
  {
   "cell_type": "markdown",
   "metadata": {},
   "source": [
    "## 学習モデルのロードとデータ取得に必要なライブラリ\n",
    "下記は本講義で使用するので実行すること"
   ]
  },
  {
   "cell_type": "code",
   "execution_count": null,
   "metadata": {
    "colab": {
     "base_uri": "https://localhost:8080/",
     "height": 1071
    },
    "colab_type": "code",
    "id": "AX7kBsNpclCU",
    "outputId": "679b5aff-0ee8-4fbd-d7e6-a8066e6015b9"
   },
   "outputs": [],
   "source": [
    "from keras.datasets import mnist\n",
    "from keras.models import load_model\n",
    "from keras.preprocessing.image import img_to_array, load_img"
   ]
  },
  {
   "cell_type": "markdown",
   "metadata": {},
   "source": [
    "windowsユーザーで、上記記の実行で固まってしまったりして先に進まない場合は`Anaconda Prompt`で次を実行\n",
    "```bash\n",
    "pip uninstall tensorflow\n",
    "pip uninstall keras\n",
    "conda install tensorflow=1.14.0\n",
    "conda install keras\n",
    "```\n",
    "上記を実行して`jupyter`がうまく動かなくなってしまった場合は下記を実行\n",
    "```bash\n",
    "conda install jupyter\n",
    "```\n",
    "※`jupyter lab` を使用している方は下記も同時に実行\n",
    "```bash\n",
    "conda install jupyterlab\n",
    "```\n",
    "----"
   ]
  },
  {
   "cell_type": "markdown",
   "metadata": {},
   "source": [
    "### 基本処理、画像描画用のライブラリ"
   ]
  },
  {
   "cell_type": "code",
   "execution_count": null,
   "metadata": {
    "colab": {
     "base_uri": "https://localhost:8080/",
     "height": 1071
    },
    "colab_type": "code",
    "id": "AX7kBsNpclCU",
    "outputId": "679b5aff-0ee8-4fbd-d7e6-a8066e6015b9"
   },
   "outputs": [],
   "source": [
    "import matplotlib.pyplot as plt\n",
    "import numpy as np\n",
    "\n",
    "%matplotlib inline\n",
    "\n",
    "import cv2\n",
    "import os\n",
    "from IPython.display import clear_output"
   ]
  },
  {
   "cell_type": "markdown",
   "metadata": {},
   "source": [
    "その他、必要なライブラリ一覧\n",
    "- matplotlib\n",
    "- numpy\n",
    "- pillow\n",
    "- opencv-python\n",
    "\n",
    "import cv2 などして 下記エラーが出た場合、該当するライブラリのインストールが必要となる\n",
    "```python\n",
    "ModuleNotFoundError: No module named 'cv2'\n",
    "````\n",
    "上記の場合は`opencv-python`が必要。　`jupyter` のセル上で下記コマンドを実行するとライブラリをインストールできる。\n",
    "```\n",
    "! pip install opencv-python\n",
    "```\n",
    "※↑`jupyter`のセル上でAnaconda Promptのコマンド、またはbashのコマンドを打つ場合は文頭に必ず`!`をつけること"
   ]
  },
  {
   "cell_type": "markdown",
   "metadata": {},
   "source": [
    "# 学習データの準備"
   ]
  },
  {
   "cell_type": "code",
   "execution_count": null,
   "metadata": {
    "colab": {
     "base_uri": "https://localhost:8080/",
     "height": 1071
    },
    "colab_type": "code",
    "id": "AX7kBsNpclCU",
    "outputId": "679b5aff-0ee8-4fbd-d7e6-a8066e6015b9"
   },
   "outputs": [],
   "source": [
    "# the data, split between train and test sets\n",
    "(x_train, y_train), (x_test, y_test) = mnist.load_data()"
   ]
  },
  {
   "cell_type": "markdown",
   "metadata": {},
   "source": [
    "## データの確認\n",
    "手書き数字画像データ 訓練データの一番目の画像を確認"
   ]
  },
  {
   "cell_type": "code",
   "execution_count": null,
   "metadata": {},
   "outputs": [],
   "source": [
    "plt.imshow(x_train[0], cmap=\"gray\")\n",
    "plt.xticks([]);\n",
    "plt.yticks([]);\n",
    "plt.savefig(\"predict_test.png\")"
   ]
  },
  {
   "cell_type": "markdown",
   "metadata": {},
   "source": [
    "訓練データ一番目の正解ラベルを調べる"
   ]
  },
  {
   "cell_type": "code",
   "execution_count": null,
   "metadata": {},
   "outputs": [],
   "source": [
    "y_train[0]"
   ]
  },
  {
   "cell_type": "markdown",
   "metadata": {},
   "source": [
    "訓練データ先頭の81個の画像を確認する"
   ]
  },
  {
   "cell_type": "code",
   "execution_count": null,
   "metadata": {},
   "outputs": [],
   "source": [
    "fig = plt.figure(figsize=(9, 9))\n",
    "fig.subplots_adjust(left=0, right=1, bottom=0, top=0.5, hspace=0.05, wspace=0.05)\n",
    "\n",
    "for i in range(81):\n",
    "    ax = fig.add_subplot(9, 9, i + 1, xticks=[], yticks=[])\n",
    "    ax.imshow(x_train[i].reshape(28,28), cmap=\"gray\")"
   ]
  },
  {
   "cell_type": "markdown",
   "metadata": {},
   "source": [
    "訓練データの正解ラベルの先頭81個を表示"
   ]
  },
  {
   "cell_type": "code",
   "execution_count": null,
   "metadata": {},
   "outputs": [],
   "source": [
    "y_train[:81]"
   ]
  },
  {
   "cell_type": "markdown",
   "metadata": {},
   "source": [
    "訓練データの正解ラベルのユニークな種別を表示"
   ]
  },
  {
   "cell_type": "code",
   "execution_count": null,
   "metadata": {},
   "outputs": [],
   "source": [
    "import numpy as np"
   ]
  },
  {
   "cell_type": "code",
   "execution_count": null,
   "metadata": {},
   "outputs": [],
   "source": [
    "classes = np.unique(y_train)\n",
    "classes"
   ]
  },
  {
   "cell_type": "markdown",
   "metadata": {},
   "source": [
    "画像から識別したいラベルの種類は10種類"
   ]
  },
  {
   "cell_type": "code",
   "execution_count": null,
   "metadata": {},
   "outputs": [],
   "source": [
    "num_classes = len(classes)\n",
    "num_classes"
   ]
  },
  {
   "cell_type": "markdown",
   "metadata": {},
   "source": [
    "# 深層学習のための準備\n",
    "---\n",
    "ここから下は深層学習を実際に行う準備と、実際の学習実行のためのコードが続く。  \n",
    "実際の学習はノートパソコンで行うには計算量が多く時間がかかるため、実行できない形式にしている。  \n",
    "実行してみたい人は、セルのモードを`markdown`から`code`に変更し、　本文の上下についているコードインデント、` ``` `  を取り外せば実行できる。"
   ]
  },
  {
   "cell_type": "markdown",
   "metadata": {
    "colab": {
     "base_uri": "https://localhost:8080/",
     "height": 1071
    },
    "colab_type": "code",
    "id": "AX7kBsNpclCU",
    "outputId": "679b5aff-0ee8-4fbd-d7e6-a8066e6015b9"
   },
   "source": [
    "```python\n",
    "# input image dimensions\n",
    "img_rows, img_cols = x_train[0].shape\n",
    "# 28, 28\n",
    "\n",
    "if K.image_data_format() == 'channels_first':\n",
    "    x_train = x_train.reshape(x_train.shape[0], 1, img_rows, img_cols)\n",
    "    x_test = x_test.reshape(x_test.shape[0], 1, img_rows, img_cols)\n",
    "    input_shape = (1, img_rows, img_cols)\n",
    "else:\n",
    "    x_train = x_train.reshape(x_train.shape[0], img_rows, img_cols, 1)\n",
    "    x_test = x_test.reshape(x_test.shape[0], img_rows, img_cols, 1)\n",
    "    input_shape = (img_rows, img_cols, 1)\n",
    " \n",
    "x_train = x_train.astype('float32')\n",
    "x_test = x_test.astype('float32')\n",
    "x_train /= 255\n",
    "x_test /= 255\n",
    " \n",
    "print('x_train shape:', x_train.shape)\n",
    "print(x_train.shape[0], 'train samples')\n",
    "print(x_test.shape[0], 'test samples')\n",
    " \n",
    "# convert class vectors to binary class matrices\n",
    "y_train = keras.utils.to_categorical(y_train, num_classes)\n",
    "y_test = keras.utils.to_categorical(y_test, num_classes)\n",
    "```"
   ]
  },
  {
   "cell_type": "markdown",
   "metadata": {},
   "source": [
    "出力："
   ]
  },
  {
   "cell_type": "markdown",
   "metadata": {},
   "source": [
    "```python\n",
    "x_train shape: (60000, 28, 28, 1)\n",
    "60000 train samples\n",
    "10000 test samples\n",
    "```"
   ]
  },
  {
   "cell_type": "markdown",
   "metadata": {},
   "source": [
    "# 畳み込みニューラルネットワークの実装"
   ]
  },
  {
   "cell_type": "markdown",
   "metadata": {
    "colab": {
     "base_uri": "https://localhost:8080/",
     "height": 1071
    },
    "colab_type": "code",
    "id": "AX7kBsNpclCU",
    "outputId": "679b5aff-0ee8-4fbd-d7e6-a8066e6015b9"
   },
   "source": [
    "```python\n",
    "model = Sequential()\n",
    "model.add(Conv2D(32, kernel_size=(3, 3),\n",
    "                 activation='relu',\n",
    "                 input_shape=input_shape))\n",
    "model.add(Conv2D(64, (3, 3), activation='relu'))\n",
    "model.add(MaxPooling2D(pool_size=(2, 2)))\n",
    "model.add(Dropout(0.25))\n",
    "model.add(Flatten())\n",
    "model.add(Dense(128, activation='relu'))\n",
    "model.add(Dropout(0.5))\n",
    "model.add(Dense(num_classes, activation='softmax'))\n",
    "```"
   ]
  },
  {
   "cell_type": "markdown",
   "metadata": {},
   "source": [
    "### モデルのサマリー"
   ]
  },
  {
   "cell_type": "markdown",
   "metadata": {},
   "source": [
    "```python\n",
    "_________________________________________________________________\n",
    "Layer (type)                 Output Shape              Param #   \n",
    "=================================================================\n",
    "conv2d_1 (Conv2D)            (None, 26, 26, 32)        320       \n",
    "_________________________________________________________________\n",
    "conv2d_2 (Conv2D)            (None, 24, 24, 64)        18496     \n",
    "_________________________________________________________________\n",
    "max_pooling2d_1 (MaxPooling2 (None, 12, 12, 64)        0         \n",
    "_________________________________________________________________\n",
    "dropout_1 (Dropout)          (None, 12, 12, 64)        0         \n",
    "_________________________________________________________________\n",
    "flatten_1 (Flatten)          (None, 9216)              0         \n",
    "_________________________________________________________________\n",
    "dense_1 (Dense)              (None, 128)               1179776   \n",
    "_________________________________________________________________\n",
    "dropout_2 (Dropout)          (None, 128)               0         \n",
    "_________________________________________________________________\n",
    "dense_2 (Dense)              (None, 10)                1290      \n",
    "=================================================================\n",
    "Total params: 1,199,882\n",
    "Trainable params: 1,199,882\n",
    "Non-trainable params: 0\n",
    "_________________________________________________________________\n",
    "```"
   ]
  },
  {
   "cell_type": "markdown",
   "metadata": {},
   "source": [
    "# モデルのコンパイル"
   ]
  },
  {
   "cell_type": "markdown",
   "metadata": {
    "colab": {
     "base_uri": "https://localhost:8080/",
     "height": 1071
    },
    "colab_type": "code",
    "id": "AX7kBsNpclCU",
    "outputId": "679b5aff-0ee8-4fbd-d7e6-a8066e6015b9"
   },
   "source": [
    "```python\n",
    "model.compile(loss=keras.losses.categorical_crossentropy,\n",
    "              optimizer=keras.optimizers.Adadelta(),\n",
    "              metrics=['accuracy'])\n",
    "```"
   ]
  },
  {
   "cell_type": "markdown",
   "metadata": {},
   "source": [
    "# 学習データの訓練および検証"
   ]
  },
  {
   "cell_type": "markdown",
   "metadata": {},
   "source": [
    "## 学習設定"
   ]
  },
  {
   "cell_type": "markdown",
   "metadata": {
    "colab": {
     "base_uri": "https://localhost:8080/",
     "height": 1071
    },
    "colab_type": "code",
    "id": "AX7kBsNpclCU",
    "outputId": "679b5aff-0ee8-4fbd-d7e6-a8066e6015b9"
   },
   "source": [
    "```python\n",
    "batch_size = 128\n",
    "num_classes = 10\n",
    "epochs = 12\n",
    "```"
   ]
  },
  {
   "cell_type": "markdown",
   "metadata": {},
   "source": [
    "## 学習の実行"
   ]
  },
  {
   "cell_type": "markdown",
   "metadata": {
    "colab": {
     "base_uri": "https://localhost:8080/",
     "height": 1071
    },
    "colab_type": "code",
    "id": "AX7kBsNpclCU",
    "outputId": "679b5aff-0ee8-4fbd-d7e6-a8066e6015b9"
   },
   "source": [
    "```python\n",
    "model.fit(x_train, y_train,\n",
    "          batch_size=batch_size,\n",
    "          epochs=epochs,\n",
    "          verbose=1,\n",
    "          validation_data=(x_test, y_test))\n",
    "score = model.evaluate(x_test, y_test, verbose=0)\n",
    "print('Test loss:', score[0])\n",
    "print('Test accuracy:', score[1])\n",
    "```"
   ]
  },
  {
   "cell_type": "markdown",
   "metadata": {},
   "source": [
    "出力："
   ]
  },
  {
   "cell_type": "markdown",
   "metadata": {},
   "source": [
    "```python\n",
    "Train on 60000 samples, validate on 10000 samples\n",
    "Epoch 1/12\n",
    "60000/60000 [==============================] - 16s 272us/step - loss: 0.2643 - acc: 0.9190 - val_loss: 0.0608 - val_acc: 0.9809\n",
    "Epoch 2/12\n",
    "60000/60000 [==============================] - 9s 146us/step - loss: 0.0915 - acc: 0.9732 - val_loss: 0.0414 - val_acc: 0.9856\n",
    "Epoch 3/12\n",
    "60000/60000 [==============================] - 9s 146us/step - loss: 0.0679 - acc: 0.9799 - val_loss: 0.0404 - val_acc: 0.9854\n",
    "Epoch 4/12\n",
    "60000/60000 [==============================] - 9s 146us/step - loss: 0.0563 - acc: 0.9829 - val_loss: 0.0345 - val_acc: 0.9878\n",
    "Epoch 5/12\n",
    "60000/60000 [==============================] - 9s 147us/step - loss: 0.0484 - acc: 0.9858 - val_loss: 0.0335 - val_acc: 0.9887\n",
    "Epoch 6/12\n",
    "60000/60000 [==============================] - 9s 147us/step - loss: 0.0420 - acc: 0.9869 - val_loss: 0.0296 - val_acc: 0.9899\n",
    "Epoch 7/12\n",
    "60000/60000 [==============================] - 9s 147us/step - loss: 0.0392 - acc: 0.9876 - val_loss: 0.0289 - val_acc: 0.9904\n",
    "Epoch 8/12\n",
    "60000/60000 [==============================] - 9s 148us/step - loss: 0.0358 - acc: 0.9889 - val_loss: 0.0279 - val_acc: 0.9906\n",
    "Epoch 9/12\n",
    "60000/60000 [==============================] - 9s 146us/step - loss: 0.0331 - acc: 0.9898 - val_loss: 0.0283 - val_acc: 0.9913\n",
    "Epoch 10/12\n",
    "60000/60000 [==============================] - 9s 147us/step - loss: 0.0308 - acc: 0.9907 - val_loss: 0.0293 - val_acc: 0.9911\n",
    "Epoch 11/12\n",
    "60000/60000 [==============================] - 9s 147us/step - loss: 0.0279 - acc: 0.9912 - val_loss: 0.0275 - val_acc: 0.9905\n",
    "Epoch 12/12\n",
    "60000/60000 [==============================] - 9s 147us/step - loss: 0.0283 - acc: 0.9917 - val_loss: 0.0267 - val_acc: 0.9915\n",
    "Test loss: 0.026699552729436436\n",
    "Test accuracy: 0.9915\n",
    "```"
   ]
  },
  {
   "cell_type": "markdown",
   "metadata": {},
   "source": [
    "# モデルの読み込み\n",
    "上記学習により得られた **学習モデル** ファイル（h5形式）を読み込み、手書き数字の推論を行う。"
   ]
  },
  {
   "cell_type": "code",
   "execution_count": null,
   "metadata": {
    "colab": {
     "base_uri": "https://localhost:8080/",
     "height": 34
    },
    "colab_type": "code",
    "id": "v1tWRWm4cpCD",
    "outputId": "6172fe42-e6f0-4452-d60d-52b4404d066f"
   },
   "outputs": [],
   "source": [
    "from keras.models import load_model\n",
    "from keras.preprocessing.image import img_to_array, load_img"
   ]
  },
  {
   "cell_type": "markdown",
   "metadata": {},
   "source": [
    "## モデルの読み込み"
   ]
  },
  {
   "cell_type": "code",
   "execution_count": null,
   "metadata": {},
   "outputs": [],
   "source": [
    "model=load_model('MNIST99.h5')"
   ]
  },
  {
   "cell_type": "markdown",
   "metadata": {},
   "source": [
    "## 推論の実行"
   ]
  },
  {
   "cell_type": "code",
   "execution_count": null,
   "metadata": {
    "colab": {
     "base_uri": "https://localhost:8080/",
     "height": 34
    },
    "colab_type": "code",
    "id": "v1tWRWm4cpCD",
    "outputId": "6172fe42-e6f0-4452-d60d-52b4404d066f"
   },
   "outputs": [],
   "source": [
    "# img_path = 'predict_test.png'\n",
    "img_path = 'number01.png'\n",
    "# 数字画像の読み込み\n",
    "load_image = load_img(img_path, target_size=(28, 28), color_mode=\"grayscale\")\n",
    "img = img_to_array(load_image)\n",
    "# 画像のプレビュー\n",
    "plt.imshow(img.reshape(28,28), cmap=\"gray\")\n",
    "plt.xticks([])\n",
    "plt.yticks([])\n",
    "\n",
    "img_nad = img/255\n",
    "img_nad = img_nad[None, ...]\n",
    "\n",
    "# 推論ラベルの設定\n",
    "label = ['0', '1', '2', '3', '4', '5', '6', '7', '8', '9']\n",
    "# 推論の実行\n",
    "pred = model.predict(img_nad, batch_size=1, verbose=0)\n",
    "\n",
    "# 結果の出力\n",
    "score = np.max(pred)\n",
    "pred_label = label[np.argmax(pred[0])]\n",
    "print('name:',pred_label)\n",
    "print('score:',score)"
   ]
  },
  {
   "cell_type": "markdown",
   "metadata": {},
   "source": [
    "## 推論システムを関数化"
   ]
  },
  {
   "cell_type": "code",
   "execution_count": null,
   "metadata": {},
   "outputs": [],
   "source": [
    "def mnist_predict(img_path, invers=False):\n",
    "    load_image = load_img(img_path, target_size=(28, 28), color_mode=\"grayscale\")\n",
    "\n",
    "    img = img_to_array(load_image)\n",
    "    if invers:\n",
    "        img = 255 - img\n",
    "    plt.imshow(img.reshape(28,28), cmap=\"gray\")\n",
    "    plt.xticks([])\n",
    "    plt.yticks([])\n",
    "\n",
    "    img_nad = img/255\n",
    "    img_nad = img_nad[None, ...]\n",
    "    \n",
    "    label = ['0', '1', '2', '3', '4', '5', '6', '7', '8', '9']\n",
    "    pred = model.predict(img_nad, batch_size=1, verbose=0)\n",
    "    score = np.max(pred)\n",
    "    pred_label = label[np.argmax(pred[0])]\n",
    "    print('name:',pred_label)\n",
    "    print('score:',score)"
   ]
  },
  {
   "cell_type": "markdown",
   "metadata": {},
   "source": [
    "### 関数の実行"
   ]
  },
  {
   "cell_type": "code",
   "execution_count": null,
   "metadata": {},
   "outputs": [],
   "source": [
    "mnist_predict(\"number01.png\")"
   ]
  },
  {
   "cell_type": "code",
   "execution_count": null,
   "metadata": {},
   "outputs": [],
   "source": []
  },
  {
   "cell_type": "markdown",
   "metadata": {},
   "source": [
    "# インカメラで取った画像を即座に推論"
   ]
  },
  {
   "cell_type": "markdown",
   "metadata": {},
   "source": [
    "`p`キーを押して推論する。　色を反転させた画像での推論は`i`キー。終了は`q`キーを押す"
   ]
  },
  {
   "cell_type": "code",
   "execution_count": null,
   "metadata": {},
   "outputs": [],
   "source": [
    "import cv2\n",
    "import os\n",
    "from IPython.display import clear_output\n",
    "\n",
    "def predict_camera_capture(device_num, dir_path,\n",
    "                          size=(200, 200), ext='png', \n",
    "                          delay=1, window_name='frame'):\n",
    "\n",
    "    cap = cv2.VideoCapture(device_num)\n",
    "\n",
    "    if not cap.isOpened():\n",
    "        return\n",
    "\n",
    "    os.makedirs(dir_path, exist_ok=True)\n",
    "\n",
    "    while True:\n",
    "        ret, frame = cap.read()\n",
    "        if size is not None and len(size) == 2:\n",
    "            frame = cv2.resize(frame, size)\n",
    "        \n",
    "        cv2.imshow(window_name, frame)\n",
    "        key = cv2.waitKey(delay) & 0xFF\n",
    "\n",
    "        if key == ord('p'):\n",
    "            clear_output(wait=True)\n",
    "            cv2.imwrite('predict.png', frame)\n",
    "            mnist_predict('predict.png')\n",
    "            plt.show()\n",
    "\n",
    "        elif key == ord('i'):\n",
    "            clear_output(wait=True)\n",
    "            cv2.imwrite('predict.png', frame)\n",
    "            mnist_predict('predict.png', invers=True)\n",
    "            plt.show()\n",
    "\n",
    "        elif key == ord('q'):\n",
    "            os.remove(\"predict.png\")\n",
    "            break\n",
    "\n",
    "    cv2.destroyWindow(window_name)"
   ]
  },
  {
   "cell_type": "code",
   "execution_count": null,
   "metadata": {},
   "outputs": [],
   "source": [
    "predict_camera_capture(0, \"capture_images\")"
   ]
  },
  {
   "cell_type": "code",
   "execution_count": null,
   "metadata": {},
   "outputs": [],
   "source": []
  }
 ],
 "metadata": {
  "accelerator": "GPU",
  "colab": {
   "collapsed_sections": [],
   "name": "keras_mnist_recognition.ipynb",
   "provenance": []
  },
  "kernelspec": {
   "display_name": "Python 3",
   "language": "python",
   "name": "python3"
  },
  "language_info": {
   "codemirror_mode": {
    "name": "ipython",
    "version": 3
   },
   "file_extension": ".py",
   "mimetype": "text/x-python",
   "name": "python",
   "nbconvert_exporter": "python",
   "pygments_lexer": "ipython3",
   "version": "3.7.4"
  }
 },
 "nbformat": 4,
 "nbformat_minor": 4
}
